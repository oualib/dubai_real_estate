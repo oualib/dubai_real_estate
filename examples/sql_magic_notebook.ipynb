{
 "cells": [
  {
   "cell_type": "markdown",
   "metadata": {},
   "source": [
    "# Dubai Real Estate Database - SQL Magic Quick Start\n",
    "\n",
    "Welcome to the Dubai Real Estate Database! This notebook will get you up and running with **13+ million real estate records** from Dubai Land Department in just 15 minutes.\n",
    "\n",
    "## 🎯 What You'll Learn\n",
    "- Set up ClickHouse connection (Cloud or local)\n",
    "- Install the complete Dubai real estate database\n",
    "- Query 1.5M+ transactions with beautiful SQL Magic\n",
    "- Analyze Dubai's real estate trends (2002-2025)\n",
    "- Export results for further analysis\n",
    "\n",
    "## 📊 Datasets Overview\n",
    "- **1.5M+ transactions** (dld_transactions) - Sales, transfers, mortgages\n",
    "- **2.2M+ property units** (dld_units) - Apartments, villas, offices\n",
    "- **8.9M+ rental contracts** (dld_rent_contracts) - Lease agreements\n",
    "- **223K+ buildings** (dld_buildings) - Building specifications\n",
    "- **Plus 14 more datasets** with licenses, permits, valuations, and more!"
   ]
  },
  {
   "cell_type": "markdown",
   "metadata": {},
   "source": [
    "## 🚀 Step 1: Installation\n",
    "\n",
    "First, make sure you have the package installed:"
   ]
  },
  {
   "cell_type": "code",
   "execution_count": null,
   "metadata": {},
   "outputs": [],
   "source": [
    "# Install the package (run this if not already installed)\n",
    "# !pip install dubai_real_estate\n",
    "\n",
    "# Import required modules\n",
    "from dubai_real_estate.connection import create_connection\n",
    "from dubai_real_estate.install import install_database\n",
    "import time\n",
    "from datetime import datetime\n",
    "\n",
    "print(\"✅ Dubai Real Estate package imported successfully!\")\n",
    "print(f\"🕐 Started at: {datetime.now().strftime('%H:%M:%S')}\")"
   ]
  },
  {
   "cell_type": "markdown",
   "metadata": {},
   "source": [
    "## 🔗 Step 2: Set Up ClickHouse Connection\n",
    "\n",
    "You need a ClickHouse instance. Choose one of these options:\n",
    "\n",
    "### Option A: ClickHouse Cloud (Recommended)\n",
    "Get a **[1-month free trial](https://clickhouse.com/cloud)** - no setup required!\n",
    "\n",
    "### Option B: Local ClickHouse\n",
    "Run locally with Docker: `docker run -d -p 8123:8123 clickhouse/clickhouse-server`"
   ]
  },
  {
   "cell_type": "code",
   "execution_count": null,
   "metadata": {},
   "outputs": [],
   "source": [
    "# Option A: ClickHouse Cloud (recommended)\n",
    "create_connection(\n",
    "    name=\"dubai_cloud\",\n",
    "    connection_type=\"client\",\n",
    "    host=\"your-instance.clickhouse.cloud\",  # Replace with your ClickHouse Cloud host\n",
    "    port=8443,\n",
    "    username=\"default\",  # Usually 'default'\n",
    "    password=\"your-password\",  # Replace with your password\n",
    "    secure=True,\n",
    "    set_auto=True,  # This makes it the default connection\n",
    "    description=\"ClickHouse Cloud instance for Dubai real estate data\"\n",
    ")\n",
    "\n",
    "# Option B: Local ClickHouse (uncomment if using local setup)\n",
    "# create_connection(\n",
    "#     name=\"dubai_local\",\n",
    "#     connection_type=\"client\",\n",
    "#     host=\"localhost\",\n",
    "#     port=8123,\n",
    "#     username=\"default\",\n",
    "#     password=\"\",\n",
    "#     secure=False,\n",
    "#     set_auto=True,\n",
    "#     description=\"Local ClickHouse for development\"\n",
    "# )\n",
    "\n",
    "print(\"✅ ClickHouse connection created successfully!\")\n",
    "print(\"🔗 Connection will be used automatically for all operations\")"
   ]
  },
  {
   "cell_type": "markdown",
   "metadata": {},
   "source": [
    "## 📥 Step 3: Install Dubai Real Estate Database\n",
    "\n",
    "This will download and install **13+ million records** of Dubai real estate data. \n",
    "\n",
    "**⏱️ Expected time: ~14 minutes on ClickHouse Cloud**\n",
    "\n",
    "Grab a coffee ☕ while the data loads!"
   ]
  },
  {
   "cell_type": "code",
   "execution_count": null,
   "metadata": {},
   "outputs": [],
   "source": [
    "# Time the installation\n",
    "start_time = time.time()\n",
    "print(f\"🚀 Starting installation at {datetime.now().strftime('%H:%M:%S')}\")\n",
    "print(\"📊 Installing 18 datasets with 13+ million records...\")\n",
    "print(\"⏳ This will take approximately 14 minutes...\")\n",
    "print()\n",
    "\n",
    "# Install the complete database\n",
    "result = install_database(\n",
    "    database_name=\"dubai_real_estate\",\n",
    "    include_functions=True,     # Install helper SQL functions\n",
    "    include_tables=True,       # Install staging tables\n",
    "    include_views=True,        # Install clean data views\n",
    "    include_prod_tables=True,  # Install production tables\n",
    "    cleanup_after_prod=True    # Clean up staging after production\n",
    ")\n",
    "\n",
    "# Calculate duration\n",
    "duration_minutes = (time.time() - start_time) / 60\n",
    "\n",
    "print(f\"\\n🏁 Installation completed in {duration_minutes:.2f} minutes!\")\n",
    "print(f\"✅ Success: {result['success']}\")\n",
    "print(f\"📊 Database: {result['database_name']}\")\n",
    "\n",
    "if result.get('validation'):\n",
    "    validation = result['validation']\n",
    "    print(f\"📈 Total records processed: {validation.get('total_prod_rows', 0):,}\")\n",
    "    print(f\"📋 Tables with data: {validation.get('tables_with_data', 0)}/{validation.get('tables_checked', 0)}\")\n",
    "\n",
    "if result.get('total_errors', 0) > 0:\n",
    "    print(f\"⚠️  Errors encountered: {result['total_errors']}\")\n",
    "else:\n",
    "    print(\"🎉 Perfect installation - no errors!\")"
   ]
  },
  {
   "cell_type": "markdown",
   "metadata": {},
   "source": [
    "## 🎨 Step 4: Load SQL Magic Extension\n",
    "\n",
    "Now for the fun part! Load the beautiful SQL Magic extension that makes querying a joy."
   ]
  },
  {
   "cell_type": "code",
   "execution_count": null,
   "metadata": {},
   "outputs": [],
   "source": [
    "# Load the SQL Magic extension\n",
    "%load_ext dubai_real_estate.sql\n",
    "\n",
    "print(\"🎨 SQL Magic loaded successfully!\")\n",
    "print(\"📝 You can now use %sql and %%sql commands\")\n",
    "print(\"🎯 Try: %sql SELECT 1 as test\")"
   ]
  },
  {
   "cell_type": "markdown",
   "metadata": {},
   "source": [
    "## 📊 Step 5: Your First Queries\n",
    "\n",
    "Let's explore the data! Start with some simple queries to see what we have."
   ]
  },
  {
   "cell_type": "code",
   "execution_count": null,
   "metadata": {},
   "outputs": [],
   "source": [
    "# Check total transactions\n",
    "%sql SELECT COUNT(*) as total_transactions FROM dld_transactions"
   ]
  },
  {
   "cell_type": "code",
   "execution_count": null,
   "metadata": {},
   "outputs": [],
   "source": [
    "# Check all available tables\n",
    "%sql_tables"
   ]
  },
  {
   "cell_type": "code",
   "execution_count": null,
   "metadata": {},
   "outputs": [],
   "source": [
    "# Quick overview of all datasets\n",
    "%%sql\n",
    "SELECT \n",
    "    'dld_transactions' as dataset,\n",
    "    COUNT(*) as records,\n",
    "    'Real estate transactions' as description\n",
    "FROM dld_transactions\n",
    "\n",
    "UNION ALL\n",
    "\n",
    "SELECT \n",
    "    'dld_units' as dataset,\n",
    "    COUNT(*) as records,\n",
    "    'Property units' as description\n",
    "FROM dld_units\n",
    "\n",
    "UNION ALL\n",
    "\n",
    "SELECT \n",
    "    'dld_rent_contracts' as dataset,\n",
    "    COUNT(*) as records,\n",
    "    'Rental contracts' as description\n",
    "FROM dld_rent_contracts\n",
    "\n",
    "UNION ALL\n",
    "\n",
    "SELECT \n",
    "    'dld_buildings' as dataset,\n",
    "    COUNT(*) as records,\n",
    "    'Buildings' as description\n",
    "FROM dld_buildings\n",
    "\n",
    "ORDER BY records DESC;"
   ]
  },
  {
   "cell_type": "markdown",
   "metadata": {},
   "source": [
    "## 📈 Step 6: Analyze Dubai Real Estate Trends\n",
    "\n",
    "Now let's dive into some real analysis! Explore Dubai's real estate market trends over the years."
   ]
  },
  {
   "cell_type": "code",
   "execution_count": null,
   "metadata": {},
   "outputs": [],
   "source": [
    "# Transaction trends by year (2020-2025)\n",
    "%%sql\n",
    "SELECT \n",
    "    year(instance_date) as year,\n",
    "    COUNT(*) as total_transactions,\n",
    "    COUNT(CASE WHEN actual_worth > 0 THEN 1 END) as paid_transactions,\n",
    "    round(AVG(actual_worth), 0) as avg_amount_aed,\n",
    "    round(SUM(actual_worth) / 1000000, 1) as total_value_millions_aed\n",
    "FROM dld_transactions \n",
    "WHERE instance_date >= '2020-01-01' \n",
    "    AND instance_date < '2026-01-01'\n",
    "    AND actual_worth > 0\n",
    "GROUP BY year\n",
    "ORDER BY year DESC;"
   ]
  },
  {
   "cell_type": "code",
   "execution_count": null,
   "metadata": {},
   "outputs": [],
   "source": [
    "# Top 15 areas by transaction volume\n",
    "%%sql\n",
    "SELECT \n",
    "    area_name_english as area,\n",
    "    COUNT(*) as total_transactions,\n",
    "    COUNT(CASE WHEN actual_worth > 0 THEN 1 END) as paid_transactions,\n",
    "    round(AVG(CASE WHEN actual_worth > 0 THEN actual_worth END), 0) as avg_price_aed,\n",
    "    round(MAX(actual_worth), 0) as max_price_aed\n",
    "FROM dld_transactions \n",
    "WHERE area_name_english IS NOT NULL\n",
    "    AND instance_date >= '2020-01-01'\n",
    "GROUP BY area_name_english \n",
    "HAVING paid_transactions >= 100\n",
    "ORDER BY total_transactions DESC \n",
    "LIMIT 15;"
   ]
  },
  {
   "cell_type": "code",
   "execution_count": null,
   "metadata": {},
   "outputs": [],
   "source": [
    "# Property types analysis\n",
    "%%sql\n",
    "SELECT \n",
    "    property_type_english as property_type,\n",
    "    COUNT(*) as transactions,\n",
    "    round(AVG(CASE WHEN actual_worth > 0 THEN actual_worth END), 0) as avg_price_aed,\n",
    "    round(MIN(CASE WHEN actual_worth > 0 THEN actual_worth END), 0) as min_price_aed,\n",
    "    round(MAX(actual_worth), 0) as max_price_aed\n",
    "FROM dld_transactions \n",
    "WHERE property_type_english IS NOT NULL\n",
    "    AND actual_worth > 0\n",
    "    AND instance_date >= '2022-01-01'\n",
    "GROUP BY property_type_english \n",
    "HAVING transactions >= 1000\n",
    "ORDER BY avg_price_aed DESC;"
   ]
  },
  {
   "cell_type": "markdown",
   "metadata": {},
   "source": [
    "## 🏘️ Step 7: Explore Specific Areas\n",
    "\n",
    "Let's look at some of Dubai's most famous areas in detail."
   ]
  },
  {
   "cell_type": "code",
   "execution_count": null,
   "metadata": {},
   "outputs": [],
   "source": [
    "# Downtown Dubai analysis\n",
    "%%sql\n",
    "SELECT \n",
    "    year(instance_date) as year,\n",
    "    property_type_english as property_type,\n",
    "    COUNT(*) as transactions,\n",
    "    round(AVG(actual_worth), 0) as avg_price_aed,\n",
    "    round(MAX(actual_worth), 0) as max_price_aed\n",
    "FROM dld_transactions \n",
    "WHERE area_name_english = 'Downtown Dubai'\n",
    "    AND actual_worth > 0\n",
    "    AND instance_date >= '2020-01-01'\n",
    "    AND property_type_english IS NOT NULL\n",
    "GROUP BY year, property_type_english\n",
    "HAVING transactions >= 10\n",
    "ORDER BY year DESC, avg_price_aed DESC;"
   ]
  },
  {
   "cell_type": "code",
   "execution_count": null,
   "metadata": {},
   "outputs": [],
   "source": [
    "# Palm Jumeirah luxury market\n",
    "%%sql\n",
    "SELECT \n",
    "    property_type_english as property_type,\n",
    "    property_sub_type_english as sub_type,\n",
    "    COUNT(*) as transactions,\n",
    "    round(AVG(actual_worth), 0) as avg_price_aed,\n",
    "    round(MIN(actual_worth), 0) as min_price_aed,\n",
    "    round(MAX(actual_worth), 0) as max_price_aed\n",
    "FROM dld_transactions \n",
    "WHERE area_name_english = 'Palm Jumeirah'\n",
    "    AND actual_worth > 0\n",
    "    AND instance_date >= '2022-01-01'\n",
    "    AND property_type_english IS NOT NULL\n",
    "GROUP BY property_type_english, property_sub_type_english\n",
    "HAVING transactions >= 5\n",
    "ORDER BY avg_price_aed DESC;"
   ]
  },
  {
   "cell_type": "markdown",
   "metadata": {},
   "source": [
    "## 🏢 Step 8: Explore Buildings and Units\n",
    "\n",
    "Let's look at the property inventory data."
   ]
  },
  {
   "cell_type": "code",
   "execution_count": null,
   "metadata": {},
   "outputs": [],
   "source": [
    "# Building analysis by area\n",
    "%%sql\n",
    "SELECT \n",
    "    area_name_english as area,\n",
    "    COUNT(DISTINCT building_name) as unique_buildings,\n",
    "    COUNT(*) as total_units,\n",
    "    round(AVG(property_size_sqft), 1) as avg_size_sqft\n",
    "FROM dld_units \n",
    "WHERE area_name_english IS NOT NULL\n",
    "    AND property_size_sqft > 0\n",
    "GROUP BY area_name_english \n",
    "HAVING unique_buildings >= 50\n",
    "ORDER BY total_units DESC \n",
    "LIMIT 15;"
   ]
  },
  {
   "cell_type": "code",
   "execution_count": null,
   "metadata": {},
   "outputs": [],
   "source": [
    "# Property sizes by type\n",
    "%%sql\n",
    "SELECT \n",
    "    property_type_english as property_type,\n",
    "    property_sub_type_english as sub_type,\n",
    "    COUNT(*) as units,\n",
    "    round(AVG(property_size_sqft), 1) as avg_size_sqft,\n",
    "    round(MIN(property_size_sqft), 1) as min_size_sqft,\n",
    "    round(MAX(property_size_sqft), 1) as max_size_sqft\n",
    "FROM dld_units \n",
    "WHERE property_type_english IS NOT NULL\n",
    "    AND property_sub_type_english IS NOT NULL\n",
    "    AND property_size_sqft > 0\n",
    "    AND property_size_sqft < 50000  -- Filter out outliers\n",
    "GROUP BY property_type_english, property_sub_type_english\n",
    "HAVING units >= 1000\n",
    "ORDER BY avg_size_sqft DESC;"
   ]
  },
  {
   "cell_type": "markdown",
   "metadata": {},
   "source": [
    "## 💼 Step 9: Real Estate Market Professionals\n",
    "\n",
    "Explore the real estate services industry."
   ]
  },
  {
   "cell_type": "code",
   "execution_count": null,
   "metadata": {},
   "outputs": [],
   "source": [
    "# Real estate offices by area\n",
    "%%sql\n",
    "SELECT \n",
    "    area_name_english as area,\n",
    "    COUNT(*) as offices,\n",
    "    COUNT(CASE WHEN office_status_english = 'Active' THEN 1 END) as active_offices\n",
    "FROM dld_offices \n",
    "WHERE area_name_english IS NOT NULL\n",
    "GROUP BY area_name_english \n",
    "HAVING offices >= 10\n",
    "ORDER BY active_offices DESC\n",
    "LIMIT 10;"
   ]
  },
  {
   "cell_type": "code",
   "execution_count": null,
   "metadata": {},
   "outputs": [],
   "source": [
    "# Active brokers overview\n",
    "%%sql\n",
    "SELECT \n",
    "    COUNT(*) as total_brokers,\n",
    "    COUNT(CASE WHEN broker_status_english = 'Active' THEN 1 END) as active_brokers,\n",
    "    COUNT(DISTINCT nationality_english) as nationalities,\n",
    "    COUNT(CASE WHEN gender_english = 'Male' THEN 1 END) as male_brokers,\n",
    "    COUNT(CASE WHEN gender_english = 'Female' THEN 1 END) as female_brokers\n",
    "FROM dld_brokers;"
   ]
  },
  {
   "cell_type": "markdown",
   "metadata": {},
   "source": [
    "## 📤 Step 10: Export Data for Analysis\n",
    "\n",
    "Use SQL Magic's export feature to save results for further analysis."
   ]
  },
  {
   "cell_type": "code",
   "execution_count": null,
   "metadata": {},
   "outputs": [],
   "source": [
    "# Export Downtown Dubai transactions to CSV\n",
    "%sql --export csv SELECT area_name_english, property_type_english, instance_date, actual_worth FROM dld_transactions WHERE area_name_english = 'Downtown Dubai' AND actual_worth > 0 LIMIT 1000"
   ]
  },
  {
   "cell_type": "code",
   "execution_count": null,
   "metadata": {},
   "outputs": [],
   "source": [
    "# Export yearly summary for visualization\n",
    "%%sql --export csv\n",
    "SELECT \n",
    "    year(instance_date) as year,\n",
    "    COUNT(*) as transactions,\n",
    "    round(AVG(actual_worth), 0) as avg_price,\n",
    "    round(SUM(actual_worth) / 1000000, 1) as total_value_millions\n",
    "FROM dld_transactions \n",
    "WHERE actual_worth > 0 \n",
    "    AND instance_date >= '2010-01-01'\n",
    "GROUP BY year\n",
    "ORDER BY year;"
   ]
  },
  {
   "cell_type": "markdown",
   "metadata": {},
   "source": [
    "## ⚙️ Step 11: SQL Magic Configuration\n",
    "\n",
    "Customize the display and behavior of SQL Magic."
   ]
  },
  {
   "cell_type": "code",
   "execution_count": null,
   "metadata": {},
   "outputs": [],
   "source": [
    "# View current configuration\n",
    "%sql_config"
   ]
  },
  {
   "cell_type": "code",
   "execution_count": null,
   "metadata": {},
   "outputs": [],
   "source": [
    "# Customize display settings\n",
    "%sql_config max_rows_display=20\n",
    "%sql_config show_execution_time=True\n",
    "%sql_config show_row_count=True"
   ]
  },
  {
   "cell_type": "code",
   "execution_count": null,
   "metadata": {},
   "outputs": [],
   "source": [
    "# Use minimal mode for cleaner output\n",
    "%sql --minimal SELECT COUNT(*) as total FROM dld_transactions"
   ]
  },
  {
   "cell_type": "code",
   "execution_count": null,
   "metadata": {},
   "outputs": [],
   "source": [
    "# View query history\n",
    "%sql_history 5"
   ]
  },
  {
   "cell_type": "markdown",
   "metadata": {},
   "source": [
    "## 🎉 Congratulations!\n",
    "\n",
    "You've successfully:\n",
    "\n",
    "✅ **Set up ClickHouse** connection  \n",
    "✅ **Installed 13+ million records** of Dubai real estate data  \n",
    "✅ **Explored transactions, units, and buildings** with SQL Magic  \n",
    "✅ **Analyzed market trends** across Dubai's areas  \n",
    "✅ **Exported data** for further analysis  \n",
    "\n",
    "## 🚀 What's Next?\n",
    "\n",
    "### 📊 Data Analysis Ideas\n",
    "- **Price prediction models** using historical trends\n",
    "- **Area comparison dashboards** with property metrics\n",
    "- **Investment opportunity analysis** by ROI and growth\n",
    "- **Market timing analysis** for buyers and sellers\n",
    "\n",
    "### 🔗 Integration Options\n",
    "- **Business Intelligence**: Connect to Tableau, Power BI, or Grafana\n",
    "- **Python analysis**: Use pandas with exported CSV data\n",
    "- **APIs**: Build REST APIs on top of the ClickHouse data\n",
    "- **Real-time dashboards**: Stream live updates from Dubai Pulse\n",
    "\n",
    "### 📚 Additional Resources\n",
    "- **[ClickHouse Documentation](https://clickhouse.com/docs)** - Learn advanced SQL features\n",
    "- **[Dubai Pulse](https://www.dubaipulse.gov.ae/organisation/dld)** - Official data source\n",
    "- **[Project GitHub](https://github.com/oualib/dubai_real_estate)** - Contribute and get support\n",
    "\n",
    "## 📜 Data Attribution\n",
    "\n",
    "**Data provided by Dubai Land Department via Dubai Pulse**  \n",
    "Licensed under [Dubai Open Data License](https://www.dubaipulse.gov.ae/docs/DDE%20_%20DRAFT_Open_Data%20Licence_LONG_Form_English%203.pdf)\n",
    "\n",
    "---\n",
    "\n",
    "**Happy analyzing! 🏙️📊**"
   ]
  }
 ],
 "metadata": {
  "kernelspec": {
   "display_name": "Python 3",
   "language": "python",
   "name": "python3"
  },
  "language_info": {
   "codemirror_mode": {
    "name": "ipython",
    "version": 3
   },
   "file_extension": ".py",
   "mimetype": "text/x-python",
   "name": "python",
   "nbconvert_exporter": "python",
   "pygments_lexer": "ipython3",
   "version": "3.9.0"
  }
 },
 "nbformat": 4,
 "nbformat_minor": 4
}
