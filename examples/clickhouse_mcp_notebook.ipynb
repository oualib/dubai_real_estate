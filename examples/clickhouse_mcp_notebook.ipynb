{
 "cells": [
  {
   "cell_type": "markdown",
   "metadata": {},
   "source": [
    "# Dubai Real Estate Database - ClickHouse MCP Integration\n",
    "\n",
    "This notebook shows you how to use **ClickHouse MCP (chmcp)** to query your Dubai Real Estate database with natural language through AI assistants like Claude.\n",
    "\n",
    "## 🎯 What You'll Achieve\n",
    "- Set up ClickHouse MCP for Dubai real estate data\n",
    "- Query 13+ million real estate records using natural language\n",
    "- Analyze Dubai's property market through AI conversations\n",
    "- Access 18 comprehensive datasets with simple questions\n",
    "\n",
    "## 🤖 About ClickHouse MCP (chmcp)\n",
    "**[chmcp](https://github.com/oualib/chmcp)** is a Model Context Protocol server that enables AI assistants to:\n",
    "- **Query ClickHouse databases** directly with natural language\n",
    "- **Explore table schemas** automatically\n",
    "- **Generate insights** from your Dubai real estate data\n",
    "- **Run complex analytics** through simple conversations\n",
    "\n",
    "## 📋 Prerequisites\n",
    "- Completed database installation (see `sql-magic-quickstart.ipynb`)\n",
    "- ClickHouse instance with your Dubai real estate data\n",
    "- AI assistant that supports MCP (like Claude Desktop)\n",
    "\n",
    "## 🚀 Step 1: Install and Set Up chmcp\n",
    "\n",
    "Follow the complete setup tutorial at: **[chmcp Tutorial](https://github.com/oualib/chmcp/blob/main/tutorial/README.md)**\n",
    "\n",
    "The tutorial covers:\n",
    "- Installing the chmcp package\n",
    "- Configuring Claude Desktop for MCP\n",
    "- Setting up ClickHouse connections\n",
    "- Testing the integration\n",
    "\n",
    "**🔗 Quick Setup Summary:**\n",
    "```bash\n",
    "# Install chmcp\n",
    "pip install chmcp\n",
    "\n",
    "# Configure Claude Desktop\n",
    "# Follow the tutorial for detailed configuration steps\n",
    "```"
   ]
  },
  {
   "cell_type": "markdown",
   "metadata": {},
   "source": [
    "## 📊 Step 2: Verify Your Dubai Real Estate Database\n",
    "\n",
    "Let's make sure your database is ready for MCP queries."
   ]
  },
  {
   "cell_type": "code",
   "execution_count": null,
   "metadata": {},
   "outputs": [],
   "source": [
    "from dubai_real_estate.connection import get_connection\n",
    "from dubai_real_estate.install import get_installation_status\n",
    "\n",
    "# Load SQL Magic for verification\n",
    "%load_ext dubai_real_estate.sql\n",
    "\n",
    "print(\"🔍 Verifying Dubai Real Estate database for MCP...\")"
   ]
  },
  {
   "cell_type": "code",
   "execution_count": null,
   "metadata": {},
   "outputs": [],
   "source": [
    "# Check installation status\n",
    "status = get_installation_status()\n",
    "\n",
    "print(f\"📊 Database: {status['database_name']}\")\n",
    "print(f\"🔗 Connection: {status['connection_name']}\")\n",
    "print(f\"📋 Tables installed: {status['tables_installed']}/{status['tables_expected']}\")\n",
    "print(f\"🏭 Production tables: {status['prod_tables_installed']}/{status['tables_expected']}\")\n",
    "\n",
    "if status['database_exists'] and status['tables_installed'] > 0:\n",
    "    print(\"\\n✅ Database is ready for MCP integration!\")\n",
    "else:\n",
    "    print(\"\\n⚠️  Please complete database installation first (see sql-magic-quickstart.ipynb)\")"
   ]
  },
  {
   "cell_type": "code",
   "execution_count": null,
   "metadata": {},
   "outputs": [],
   "source": [
    "# Show available tables for MCP\n",
    "%sql_tables dubai_real_estate"
   ]
  },
  {
   "cell_type": "code",
   "execution_count": null,
   "metadata": {},
   "outputs": [],
   "source": [
    "# Quick data overview for MCP\n",
    "%%sql\n",
    "SELECT \n",
    "    'dld_transactions' as table_name,\n",
    "    COUNT(*) as record_count,\n",
    "    'Real estate transactions (2002-2025)' as description\n",
    "FROM dld_transactions\n",
    "\n",
    "UNION ALL\n",
    "\n",
    "SELECT \n",
    "    'dld_units' as table_name,\n",
    "    COUNT(*) as record_count,\n",
    "    'Property units and specifications' as description\n",
    "FROM dld_units\n",
    "\n",
    "UNION ALL\n",
    "\n",
    "SELECT \n",
    "    'dld_rent_contracts' as table_name,\n",
    "    COUNT(*) as record_count,\n",
    "    'Rental contracts and lease agreements' as description\n",
    "FROM dld_rent_contracts\n",
    "\n",
    "UNION ALL\n",
    "\n",
    "SELECT \n",
    "    'dld_buildings' as table_name,\n",
    "    COUNT(*) as record_count,\n",
    "    'Building information and details' as description\n",
    "FROM dld_buildings\n",
    "\n",
    "ORDER BY record_count DESC;"
   ]
  },
  {
   "cell_type": "markdown",
   "metadata": {},
   "source": [
    "## 🔗 Step 3: Get Your Connection Details\n",
    "\n",
    "Get the connection information you'll need for chmcp configuration."
   ]
  },
  {
   "cell_type": "code",
   "execution_count": null,
   "metadata": {},
   "outputs": [],
   "source": [
    "# Get connection details for chmcp\n",
    "connection = get_connection()\n",
    "if connection:\n",
    "    creds = connection.credentials\n",
    "    \n",
    "    print(\"🔧 ClickHouse Connection Details for chmcp:\")\n",
    "    print(\"=\" * 50)\n",
    "    print(f\"Host: {creds.host}\")\n",
    "    print(f\"Port: {creds.port}\")\n",
    "    print(f\"Database: dubai_real_estate\")\n",
    "    print(f\"Username: {creds.username}\")\n",
    "    print(f\"Secure: {creds.secure}\")\n",
    "    print(f\"Interface: {'https' if creds.secure else 'http'}\")\n",
    "    print()\n",
    "    print(\"📝 Use these details when configuring chmcp in the tutorial\")\n",
    "    print(\"🔗 Tutorial: https://github.com/oualib/chmcp/blob/main/tutorial/README.md\")\n",
    "else:\n",
    "    print(\"❌ No connection found. Please set up your ClickHouse connection first.\")"
   ]
  },
  {
   "cell_type": "markdown",
   "metadata": {},
   "source": [
    "## 🎯 Step 4: Example MCP Queries\n",
    "\n",
    "Once you've set up chmcp following the tutorial, you can ask these types of questions in your AI assistant:"
   ]
  },
  {
   "cell_type": "markdown",
   "metadata": {},
   "source": [
    "### 🏡 **Property Market Questions**\n",
    "\n",
    "Ask your AI assistant (like Claude Desktop with chmcp configured):\n",
    "\n",
    "**Basic Market Overview:**\n",
    "- *\"How many real estate transactions happened in Dubai last year?\"*\n",
    "- *\"What's the average property price in Downtown Dubai?\"*\n",
    "- *\"Show me the most expensive areas in Dubai\"*\n",
    "- *\"Which areas have the most transaction activity?\"*\n",
    "\n",
    "**Trend Analysis:**\n",
    "- *\"How have property prices changed in Business Bay over the last 3 years?\"*\n",
    "- *\"Show me Dubai real estate market trends for 2024\"*\n",
    "- *\"Which areas have seen the biggest price increases?\"*\n",
    "- *\"Compare transaction volumes between 2023 and 2024\"*\n",
    "\n",
    "**Property Search:**\n",
    "- *\"What types of apartments are available in Marina?\"*\n",
    "- *\"Show me villa options in Emirates Hills\"*\n",
    "- *\"What are the typical apartment sizes in JBR?\"*\n",
    "- *\"Find properties near metro stations\"*\n",
    "\n",
    "**Investment Analysis:**\n",
    "- *\"Which areas have properties under 2 million AED?\"*\n",
    "- *\"Show me luxury properties in Palm Jumeirah\"*\n",
    "- *\"What's the price per square foot in different areas?\"*\n",
    "- *\"Which areas offer the best value for money?\"*\n",
    "\n",
    "**Rental Market:**\n",
    "- *\"What are typical rental rates in different areas?\"*\n",
    "- *\"Show me rental trends in popular areas\"*\n",
    "- *\"Compare rental yields across Dubai\"*\n",
    "- *\"What types of properties are most commonly rented?\"*"
   ]
  },
  {
   "cell_type": "markdown",
   "metadata": {},
   "source": [
    "## 📈 Step 5: Advanced Analytics with MCP\n",
    "\n",
    "Your AI assistant can perform sophisticated analysis by querying multiple tables:"
   ]
  },
  {
   "cell_type": "markdown",
   "metadata": {},
   "source": [
    "### 🔍 **Complex Analysis Examples**\n",
    "\n",
    "**Cross-Dataset Analysis:**\n",
    "- *\"Compare sales prices vs rental yields in different areas\"*\n",
    "- *\"Show me areas with both high transaction volume and price growth\"*\n",
    "- *\"Analyze the relationship between property size and price\"*\n",
    "- *\"Which developers have the most active projects?\"*\n",
    "\n",
    "**Market Insights:**\n",
    "- *\"What's the typical time between property transactions in the same building?\"*\n",
    "- *\"Show me seasonal patterns in Dubai real estate\"*\n",
    "- *\"Analyze price distribution across different property types\"*\n",
    "- *\"Which areas have the most diverse property offerings?\"*\n",
    "\n",
    "**Investment Intelligence:**\n",
    "- *\"Find undervalued areas based on price trends\"*\n",
    "- *\"Show me emerging neighborhoods with growing activity\"*\n",
    "- *\"Analyze ROI potential across different areas\"*\n",
    "- *\"Compare luxury vs affordable market segments\"*\n",
    "\n",
    "**Professional Services:**\n",
    "- *\"Which real estate offices are most active in luxury sales?\"*\n",
    "- *\"Show me broker activity by area\"*\n",
    "- *\"Analyze permit issuance trends\"*\n",
    "- *\"Find the most active property valuators\"*"
   ]
  },
  {
   "cell_type": "markdown",
   "metadata": {},
   "source": [
    "## 🛠️ Step 6: Database Schema for AI Understanding\n",
    "\n",
    "Let's provide some key schema information that helps the AI understand your data structure:"
   ]
  },
  {
   "cell_type": "code",
   "execution_count": null,
   "metadata": {},
   "outputs": [],
   "source": [
    "# Show key columns for transactions table\n",
    "%%sql\n",
    "DESCRIBE TABLE dld_transactions\n",
    "LIMIT 15;"
   ]
  },
  {
   "cell_type": "code",
   "execution_count": null,
   "metadata": {},
   "outputs": [],
   "source": [
    "# Show sample transaction data\n",
    "%%sql\n",
    "SELECT \n",
    "    transaction_id,\n",
    "    instance_date,\n",
    "    area_name_english,\n",
    "    property_type_english,\n",
    "    actual_worth,\n",
    "    procedure_area,\n",
    "    nearest_metro_name_english\n",
    "FROM dld_transactions \n",
    "WHERE actual_worth > 0 \n",
    "    AND area_name_english IS NOT NULL\n",
    "ORDER BY instance_date DESC \n",
    "LIMIT 5;"
   ]
  },
  {
   "cell_type": "code",
   "execution_count": null,
   "metadata": {},
   "outputs": [],
   "source": [
    "# Show key columns for units table\n",
    "%%sql\n",
    "SELECT \n",
    "    area_name_english,\n",
    "    property_type_english,\n",
    "    property_sub_type_english,\n",
    "    property_size_sqft,\n",
    "    rooms_english,\n",
    "    building_name\n",
    "FROM dld_units \n",
    "WHERE property_size_sqft > 0\n",
    "    AND area_name_english IS NOT NULL\n",
    "LIMIT 5;"
   ]
  },
  {
   "cell_type": "markdown",
   "metadata": {},
   "source": [
    "## 🎯 Step 7: Test Your MCP Setup\n",
    "\n",
    "After following the chmcp tutorial, test with these starter questions:"
   ]
  },
  {
   "cell_type": "markdown",
   "metadata": {},
   "source": [
    "### ✅ **Quick Test Questions**\n",
    "\n",
    "Start with these simple questions to verify your MCP setup is working:\n",
    "\n",
    "1. **\"How many tables are in the dubai_real_estate database?\"**\n",
    "   - Should return 18 tables\n",
    "\n",
    "2. **\"What's the total number of real estate transactions?\"**\n",
    "   - Should return ~1.5 million transactions\n",
    "\n",
    "3. **\"Show me the 5 most expensive areas in Dubai\"**\n",
    "   - Should query and rank areas by average price\n",
    "\n",
    "4. **\"What types of properties are tracked in the database?\"**\n",
    "   - Should list different property types\n",
    "\n",
    "5. **\"How many transactions happened in 2024?\"**\n",
    "   - Should filter by year and count transactions\n",
    "\n",
    "If these work, your MCP integration is successful! 🎉"
   ]
  },
  {
   "cell_type": "markdown",
   "metadata": {},
   "source": [
    "## 🔍 Step 8: Key Data Fields Reference\n",
    "\n",
    "Important fields for natural language queries:"
   ]
  },
  {
   "cell_type": "code",
   "execution_count": null,
   "metadata": {},
   "outputs": [],
   "source": [
    "# Show distinct areas for reference\n",
    "%%sql\n",
    "SELECT \n",
    "    area_name_english as area,\n",
    "    COUNT(*) as transactions\n",
    "FROM dld_transactions \n",
    "WHERE area_name_english IS NOT NULL\n",
    "GROUP BY area_name_english \n",
    "ORDER BY transactions DESC \n",
    "LIMIT 20;"
   ]
  },
  {
   "cell_type": "code",
   "execution_count": null,
   "metadata": {},
   "outputs": [],
   "source": [
    "# Show property types for reference\n",
    "%%sql\n",
    "SELECT \n",
    "    property_type_english as property_type,\n",
    "    COUNT(*) as count\n",
    "FROM dld_transactions \n",
    "WHERE property_type_english IS NOT NULL\n",
    "GROUP BY property_type_english \n",
    "ORDER BY count DESC;"
   ]
  },
  {
   "cell_type": "code",
   "execution_count": null,
   "metadata": {},
   "outputs": [],
   "source": [
    "# Show date range for reference\n",
    "%%sql\n",
    "SELECT \n",
    "    MIN(instance_date) as earliest_transaction,\n",
    "    MAX(instance_date) as latest_transaction,\n",
    "    COUNT(DISTINCT year(instance_date)) as years_of_data\n",
    "FROM dld_transactions \n",
    "WHERE instance_date IS NOT NULL;"
   ]
  },
  {
   "cell_type": "markdown",
   "metadata": {},
   "source": [
    "## 🎉 Congratulations!\n",
    "\n",
    "Your Dubai Real Estate database is now ready for **natural language queries** through ClickHouse MCP!\n",
    "\n",
    "## ✅ **What You've Accomplished**\n",
    "- **Verified** your 13+ million record database is MCP-ready\n",
    "- **Identified** key connection details for chmcp setup\n",
    "- **Explored** the types of questions you can ask\n",
    "- **Prepared** schema information for AI understanding\n",
    "\n",
    "## 🚀 **Next Steps**\n",
    "\n",
    "1. **Complete chmcp setup** following the [tutorial](https://github.com/oualib/chmcp/blob/main/tutorial/README.md)\n",
    "2. **Test basic queries** with the examples provided above\n",
    "3. **Explore complex analysis** using natural language\n",
    "4. **Share insights** from your AI-powered real estate analysis\n",
    "\n",
    "## 🤖 **AI-Powered Real Estate Analysis**\n",
    "\n",
    "With chmcp configured, you can now:\n",
    "- **Ask complex questions** in plain English\n",
    "- **Get instant insights** from 13+ million records\n",
    "- **Explore trends** across 23+ years of data\n",
    "- **Analyze markets** with AI-generated SQL queries\n",
    "- **Compare areas** and property types effortlessly\n",
    "\n",
    "## 📚 **Resources**\n",
    "- **chmcp Repository**: [github.com/oualib/chmcp](https://github.com/oualib/chmcp)\n",
    "- **Setup Tutorial**: [chmcp/tutorial/README.md](https://github.com/oualib/chmcp/blob/main/tutorial/README.md)\n",
    "- **Dubai Real Estate Package**: [github.com/oualib/dubai_real_estate](https://github.com/oualib/dubai_real_estate)\n",
    "- **Data Source**: [Dubai Pulse - DLD](https://www.dubaipulse.gov.ae/organisation/dld)\n",
    "\n",
    "## 📜 **Data Attribution**\n",
    "**Data provided by Dubai Land Department via Dubai Pulse**  \n",
    "Licensed under [Dubai Open Data License](https://www.dubaipulse.gov.ae/docs/DDE%20_%20DRAFT_Open_Data%20Licence_LONG_Form_English%203.pdf)\n",
    "\n",
    "---\n",
    "\n",
    "**Ready to chat with your Dubai real estate data! 🏙️💬**\n",
    "\n",
    "*Your AI assistant now has direct access to Dubai's complete real estate market through natural language conversations.*"
   ]
  }
 ],
 "metadata": {
  "kernelspec": {
   "display_name": "Python 3",
   "language": "python",
   "name": "python3"
  },
  "language_info": {
   "codemirror_mode": {
    "name": "ipython",
    "version": 3
   },
   "file_extension": ".py",
   "mimetype": "text/x-python",
   "name": "python",
   "nbconvert_exporter": "python",
   "pygments_lexer": "ipython3",
   "version": "3.9.0"
  }
 },
 "nbformat": 4,
 "nbformat_minor": 4
}