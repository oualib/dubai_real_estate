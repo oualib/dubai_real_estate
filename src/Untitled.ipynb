{
 "cells": [
  {
   "cell_type": "code",
   "execution_count": 1,
   "id": "16dda433-dc5e-402d-b73f-f69361d8cd86",
   "metadata": {},
   "outputs": [
    {
     "name": "stderr",
     "output_type": "stream",
     "text": [
      "✗ Failed to execute Ingest data into dld_rent_contracts: Query execution failed: HTTPDriver for https://pe6yfoge1n.me-central-1.aws.clickhouse.cloud:8443 received ClickHouse error code 43\n",
      " Code: 43. DB::Exception: A value of illegal type was provided as 1st argument 'time' to function 'parseDateTimeOrNull'. Expected: String, got: DateTime: In scope x -> CAST(parseDateTimeOrNull(x, '%d-%m-%Y'), 'Nullable(Date)'). (ILLEGAL_TYPE_OF_ARGUMENT) (version 24.12.1.18423 (official build))\n",
      "\n",
      "⚠ dld_rent_contracts_staging: No data\n",
      "⚠ Installation completed with 1 errors\n"
     ]
    },
    {
     "name": "stdout",
     "output_type": "stream",
     "text": [
      "✓ Installed dubai_real_estate database: False\n"
     ]
    }
   ],
   "source": [
    "from dubai_real_estate import create_connection, install_database\n",
    "\n",
    "# One-time setup\n",
    "create_connection(\n",
    "    \"clickhouse_cloud_test\", \"client\",\n",
    "    host=\"pe6yfoge1n.me-central-1.aws.clickhouse.cloud\",\n",
    "    port=8443,\n",
    "    username=\"default\",\n",
    "    password=\"C~w6wGprncP9~\",\n",
    "    save=True,\n",
    "    set_auto=True\n",
    ")\n",
    "\n",
    "# Install everything with defaults\n",
    "result = install_database()\n",
    "print(f\"✓ Installed dubai_real_estate database: {result['success']}\")"
   ]
  },
  {
   "cell_type": "code",
   "execution_count": 1,
   "id": "9b55b021-b287-4f54-bf79-cb864e249ef5",
   "metadata": {},
   "outputs": [
    {
     "data": {
      "text/plain": [
       "{'tables_created': 1,\n",
       " 'tables_ingested': 1,\n",
       " 'errors': 0,\n",
       " 'tables': [{'table': 'dld_rent_contracts',\n",
       "   'created': True,\n",
       "   'ingested': True,\n",
       "   'error': None}]}"
      ]
     },
     "execution_count": 1,
     "metadata": {},
     "output_type": "execute_result"
    }
   ],
   "source": [
    "from dubai_real_estate import install_tables\n",
    "\n",
    "install_tables(table_names=[\"dld_rent_contracts\"])"
   ]
  },
  {
   "cell_type": "code",
   "execution_count": 1,
   "id": "77bee575-10a4-4413-90c2-834149744e13",
   "metadata": {},
   "outputs": [
    {
     "name": "stderr",
     "output_type": "stream",
     "text": [
      "No auto connection set\n"
     ]
    }
   ],
   "source": [
    "from dubai_real_estate.connection import create_connection, get_connection"
   ]
  },
  {
   "cell_type": "code",
   "execution_count": 2,
   "id": "e0da8831-d96f-419a-8091-961846bb3a5a",
   "metadata": {},
   "outputs": [],
   "source": [
    "conn = create_connection(\n",
    "    \"clickhouse_cloud_test\", \"client\",\n",
    "    host=\"pe6yfoge1n.me-central-1.aws.clickhouse.cloud\",\n",
    "    port=8443,\n",
    "    username=\"default\",\n",
    "    password=\"C~w6wGprncP9~\",\n",
    "    save=True,\n",
    "    set_auto=True\n",
    ")"
   ]
  },
  {
   "cell_type": "code",
   "execution_count": 9,
   "id": "e23b6ab2-2217-4f29-8931-a0a9fc0cc0e0",
   "metadata": {},
   "outputs": [
    {
     "name": "stdout",
     "output_type": "stream",
     "text": [
      "Collecting clickhouse-connect\n",
      "  Downloading clickhouse_connect-0.8.18-cp312-cp312-macosx_11_0_arm64.whl.metadata (3.4 kB)\n",
      "Requirement already satisfied: certifi in /opt/anaconda3/lib/python3.12/site-packages (from clickhouse-connect) (2025.4.26)\n",
      "Requirement already satisfied: urllib3>=1.26 in /opt/anaconda3/lib/python3.12/site-packages (from clickhouse-connect) (2.2.3)\n",
      "Requirement already satisfied: pytz in /opt/anaconda3/lib/python3.12/site-packages (from clickhouse-connect) (2024.1)\n",
      "Requirement already satisfied: zstandard in /opt/anaconda3/lib/python3.12/site-packages (from clickhouse-connect) (0.23.0)\n",
      "Requirement already satisfied: lz4 in /opt/anaconda3/lib/python3.12/site-packages (from clickhouse-connect) (4.3.2)\n",
      "Downloading clickhouse_connect-0.8.18-cp312-cp312-macosx_11_0_arm64.whl (253 kB)\n",
      "Installing collected packages: clickhouse-connect\n",
      "Successfully installed clickhouse-connect-0.8.18\n"
     ]
    }
   ],
   "source": [
    "!pip install clickhouse-connect"
   ]
  },
  {
   "cell_type": "code",
   "execution_count": 10,
   "id": "b194bb0e-e770-4808-8e36-bf46439db03d",
   "metadata": {},
   "outputs": [
    {
     "data": {
      "text/plain": [
       "<dubai_real_estate.connection.clients.ClientCursor at 0x124d899a0>"
      ]
     },
     "execution_count": 10,
     "metadata": {},
     "output_type": "execute_result"
    }
   ],
   "source": [
    "cursor = get_connection()\n",
    "cursor.connect()\n",
    "cursor.execute(\"SELECT 1\")"
   ]
  },
  {
   "cell_type": "code",
   "execution_count": 11,
   "id": "4bb25f0c-fde9-4c35-bf10-f8a38eff97c5",
   "metadata": {},
   "outputs": [
    {
     "ename": "AttributeError",
     "evalue": "'ClientConnection' object has no attribute 'fetchone'",
     "output_type": "error",
     "traceback": [
      "\u001b[0;31m---------------------------------------------------------------------------\u001b[0m",
      "\u001b[0;31mAttributeError\u001b[0m                            Traceback (most recent call last)",
      "Cell \u001b[0;32mIn[11], line 1\u001b[0m\n\u001b[0;32m----> 1\u001b[0m cursor\u001b[38;5;241m.\u001b[39mfetchone()\n",
      "\u001b[0;31mAttributeError\u001b[0m: 'ClientConnection' object has no attribute 'fetchone'"
     ]
    }
   ],
   "source": [
    "cursor.fetchone()"
   ]
  },
  {
   "cell_type": "code",
   "execution_count": null,
   "id": "7667adba-6a69-41c5-93c8-c1c6a3102e94",
   "metadata": {},
   "outputs": [],
   "source": []
  }
 ],
 "metadata": {
  "kernelspec": {
   "display_name": "Python 3 (ipykernel)",
   "language": "python",
   "name": "python3"
  },
  "language_info": {
   "codemirror_mode": {
    "name": "ipython",
    "version": 3
   },
   "file_extension": ".py",
   "mimetype": "text/x-python",
   "name": "python",
   "nbconvert_exporter": "python",
   "pygments_lexer": "ipython3",
   "version": "3.12.7"
  }
 },
 "nbformat": 4,
 "nbformat_minor": 5
}
